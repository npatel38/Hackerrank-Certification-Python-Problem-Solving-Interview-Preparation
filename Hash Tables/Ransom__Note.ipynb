{
  "nbformat": 4,
  "nbformat_minor": 0,
  "metadata": {
    "colab": {
      "name": "Ransom _Note",
      "provenance": []
    },
    "kernelspec": {
      "name": "python3",
      "display_name": "Python 3"
    }
  },
  "cells": [
    {
      "cell_type": "markdown",
      "metadata": {
        "id": "mcUWGhZXksI4"
      },
      "source": [
        "Hash Tables: Ransom Note"
      ]
    },
    {
      "cell_type": "code",
      "metadata": {
        "id": "WyNjTwrqkRJ0"
      },
      "source": [
        "import math\n",
        "import os\n",
        "import random\n",
        "import re\n",
        "import sys\n",
        "\n",
        "# Complete the checkMagazine function below.\n",
        "def checkMagazine(magazine, note):\n",
        "    for str_note in note:\n",
        "        if str_note in magazine:\n",
        "            magazine.pop(magazine.index(str_note))\n",
        "        else:\n",
        "            return \"No\"\n",
        "\n",
        "    return \"Yes\"\n",
        "if __name__ == '__main__':\n",
        "    mn = input().split()\n",
        "\n",
        "    m = int(mn[0])\n",
        "\n",
        "    n = int(mn[1])\n",
        "\n",
        "    magazine = input().rstrip().split()\n",
        "\n",
        "    note = input().rstrip().split()\n",
        "\n",
        "    print(checkMagazine(sorted(magazine), sorted(note)))\n"
      ],
      "execution_count": null,
      "outputs": []
    }
  ]
}