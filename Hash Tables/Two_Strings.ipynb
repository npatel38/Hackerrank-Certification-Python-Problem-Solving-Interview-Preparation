{
  "nbformat": 4,
  "nbformat_minor": 0,
  "metadata": {
    "colab": {
      "name": "Two_Strings",
      "provenance": []
    },
    "kernelspec": {
      "name": "python3",
      "display_name": "Python 3"
    }
  },
  "cells": [
    {
      "cell_type": "markdown",
      "metadata": {
        "id": "mcUWGhZXksI4"
      },
      "source": [
        "Hash Tables: Two Strings"
      ]
    },
    {
      "cell_type": "code",
      "metadata": {
        "id": "WyNjTwrqkRJ0"
      },
      "source": [
        "import math\n",
        "import os\n",
        "import random\n",
        "import re\n",
        "import sys\n",
        "\n",
        "# Complete the twoStrings function below.\n",
        "def twoStrings(s1, s2):\n",
        "    s1, s2 = set(s1), set(s2)\n",
        "    return \"YES\" if len(s1.intersection(s2)) > 0 else \"NO\"\n",
        "\n",
        "if __name__ == '__main__':\n",
        "    fptr = open(os.environ['OUTPUT_PATH'], 'w')\n",
        "\n",
        "    q = int(input())\n",
        "\n",
        "    for q_itr in range(q):\n",
        "        s1 = input()\n",
        "\n",
        "        s2 = input()\n",
        "\n",
        "        result = twoStrings(s1, s2)\n",
        "\n",
        "        fptr.write(result + '\\n')\n",
        "\n",
        "    fptr.close()\n"
      ],
      "execution_count": null,
      "outputs": []
    }
  ]
}