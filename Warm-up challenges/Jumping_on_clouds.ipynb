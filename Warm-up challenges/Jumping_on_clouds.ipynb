{
  "nbformat": 4,
  "nbformat_minor": 0,
  "metadata": {
    "colab": {
      "name": "Jumping on clouds",
      "provenance": []
    },
    "kernelspec": {
      "name": "python3",
      "display_name": "Python 3"
    }
  },
  "cells": [
    {
      "cell_type": "markdown",
      "metadata": {
        "id": "hNTGN48v7TJo",
        "colab_type": "text"
      },
      "source": [
        "Warm-up Challenge:- Jumping on clouds\n"
      ]
    },
    {
      "cell_type": "code",
      "metadata": {
        "id": "muzRHEWZ6xL4",
        "colab_type": "code",
        "colab": {}
      },
      "source": [
        "#!/bin/python3\n",
        "\n",
        "import math\n",
        "import os\n",
        "import random\n",
        "import re\n",
        "import sys\n",
        "\n",
        "# Complete the jumpingOnClouds function below.\n",
        "def jumpingOnClouds(c):\n",
        "    if len(c) == 1 : return 0\n",
        "    if len(c) == 2: return 0 if c[1]==1 else 1\n",
        "    if c[2]==1: \n",
        "        return 1 + jumpingOnClouds(c[1:])\n",
        "    if c[2]==0:\n",
        "        return 1 + jumpingOnClouds(c[2:])\n",
        "        \n",
        "\n",
        "if __name__ == '__main__':\n",
        "    fptr = open(os.environ['OUTPUT_PATH'], 'w')\n",
        "\n",
        "    n = int(input())\n",
        "\n",
        "    c = list(map(int, input().rstrip().split()))\n",
        "\n",
        "    result = jumpingOnClouds(c)\n",
        "\n",
        "    fptr.write(str(result) + '\\n')\n",
        "\n",
        "    fptr.close()\n"
      ],
      "execution_count": null,
      "outputs": []
    }
  ]
}