{
  "nbformat": 4,
  "nbformat_minor": 0,
  "metadata": {
    "colab": {
      "name": "Counting valleys",
      "provenance": []
    },
    "kernelspec": {
      "name": "python3",
      "display_name": "Python 3"
    }
  },
  "cells": [
    {
      "cell_type": "markdown",
      "metadata": {
        "id": "hNTGN48v7TJo",
        "colab_type": "text"
      },
      "source": [
        "Warm-up Challenges:- Sock Merchant\n"
      ]
    },
    {
      "cell_type": "code",
      "metadata": {
        "id": "muzRHEWZ6xL4",
        "colab_type": "code",
        "colab": {}
      },
      "source": [
        "#!/bin/python3\n",
        "\n",
        "import math\n",
        "import os\n",
        "import random\n",
        "import re\n",
        "import sys\n",
        "\n",
        "# Complete the sockMerchant function below.\n",
        "def sockMerchant(n, ar):\n",
        "    return sum([ar.count(i)//2 for i in set(ar)])\n",
        "\n",
        "if __name__ == '__main__':\n",
        "    fptr = open(os.environ['OUTPUT_PATH'], 'w')\n",
        "\n",
        "    n = int(input())\n",
        "\n",
        "    ar = list(map(int, input().rstrip().split()))\n",
        "\n",
        "    result = sockMerchant(n, ar)\n",
        "\n",
        "    fptr.write(str(result) + '\\n')\n",
        "\n",
        "    fptr.close()\n",
        "\n",
        "    fptr.close()\n"
      ],
      "execution_count": null,
      "outputs": []
    }
  ]
}