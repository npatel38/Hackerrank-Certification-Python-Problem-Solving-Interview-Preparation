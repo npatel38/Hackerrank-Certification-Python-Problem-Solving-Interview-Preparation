{
  "nbformat": 4,
  "nbformat_minor": 0,
  "metadata": {
    "colab": {
      "name": "Counting valleys",
      "provenance": []
    },
    "kernelspec": {
      "name": "python3",
      "display_name": "Python 3"
    }
  },
  "cells": [
    {
      "cell_type": "markdown",
      "metadata": {
        "id": "hNTGN48v7TJo",
        "colab_type": "text"
      },
      "source": [
        "Warm-up Challenges:- Counting Valleys\n"
      ]
    },
    {
      "cell_type": "code",
      "metadata": {
        "id": "muzRHEWZ6xL4",
        "colab_type": "code",
        "colab": {}
      },
      "source": [
        "#!/bin/python3\n",
        "\n",
        "import math\n",
        "import os\n",
        "import random\n",
        "import re\n",
        "import sys\n",
        "\n",
        "# Complete the countingValleys function below.\n",
        "def countingValleys(n, steps):\n",
        "    seaLevel = valley = 0\n",
        "\n",
        "    for step in steps:\n",
        "        if step == 'U':\n",
        "            seaLevel += 1\n",
        "        else:\n",
        "            seaLevel -= 1\n",
        "        \n",
        "        if step == 'U' and seaLevel == 0:\n",
        "            valley += 1\n",
        "    \n",
        "    return valley\n",
        "\n",
        "if __name__ == '__main__':\n",
        "    fptr = open(os.environ['OUTPUT_PATH'], 'w')\n",
        "\n",
        "    n = int(input())\n",
        "\n",
        "    s = input()\n",
        "\n",
        "    result = countingValleys(n, s)\n",
        "\n",
        "    fptr.write(str(result) + '\\n')\n",
        "\n",
        "    fptr.close()\n"
      ],
      "execution_count": null,
      "outputs": []
    }
  ]
}