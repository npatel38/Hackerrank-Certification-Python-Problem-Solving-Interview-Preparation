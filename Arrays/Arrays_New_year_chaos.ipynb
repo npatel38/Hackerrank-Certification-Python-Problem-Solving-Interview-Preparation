{
  "nbformat": 4,
  "nbformat_minor": 0,
  "metadata": {
    "colab": {
      "name": "Arrays: New_year_chaos",
      "provenance": []
    },
    "kernelspec": {
      "name": "python3",
      "display_name": "Python 3"
    }
  },
  "cells": [
    {
      "cell_type": "markdown",
      "metadata": {
        "id": "hNTGN48v7TJo",
        "colab_type": "text"
      },
      "source": [
        "Warm-up Challenge:- Arrays:New Year Chaos\n"
      ]
    },
    {
      "cell_type": "code",
      "metadata": {
        "id": "muzRHEWZ6xL4",
        "colab_type": "code",
        "colab": {}
      },
      "source": [
        "#!/bin/python3\n",
        "\n",
        "import math\n",
        "import os\n",
        "import random\n",
        "import re\n",
        "import sys\n",
        "\n",
        "# Complete the minimumBribes function below.\n",
        "def minimumBribes(Q):\n",
        "    \n",
        "    moves = 0 \n",
        "    Q = [P-1 for P in Q]\n",
        "    \n",
        "    for i,P in enumerate(Q):\n",
        "        \n",
        "        if P - i > 2:\n",
        "            print(\"Too chaotic\")\n",
        "            return\n",
        "       \n",
        "        for j in range(max(P-1,0),i):\n",
        "            if Q[j] > P:\n",
        "                moves += 1\n",
        "    print(moves)\n",
        "\n",
        "if __name__ == '__main__':\n",
        "    t = int(input())\n",
        "\n",
        "    for t_itr in range(t):\n",
        "        n = int(input())\n",
        "\n",
        "        q = list(map(int, input().rstrip().split()))\n",
        "\n",
        "        minimumBribes(q)\n",
        "\n",
        "\n",
        "\n"
      ],
      "execution_count": null,
      "outputs": []
    }
  ]
}