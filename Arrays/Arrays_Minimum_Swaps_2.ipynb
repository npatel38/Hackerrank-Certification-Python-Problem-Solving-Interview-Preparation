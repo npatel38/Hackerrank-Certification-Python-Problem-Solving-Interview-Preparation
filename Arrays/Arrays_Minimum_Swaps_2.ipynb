{
  "nbformat": 4,
  "nbformat_minor": 0,
  "metadata": {
    "colab": {
      "name": "Arrays: Minimum_Swaps_2",
      "provenance": []
    },
    "kernelspec": {
      "name": "python3",
      "display_name": "Python 3"
    }
  },
  "cells": [
    {
      "cell_type": "markdown",
      "metadata": {
        "id": "hNTGN48v7TJo",
        "colab_type": "text"
      },
      "source": [
        "Warm-up Challenge:- Arrays:Minumum Swaps 2\n"
      ]
    },
    {
      "cell_type": "code",
      "metadata": {
        "id": "muzRHEWZ6xL4",
        "colab_type": "code",
        "colab": {}
      },
      "source": [
        "#!/bin/python3\n",
        "\n",
        "import math\n",
        "import os\n",
        "import random\n",
        "import re\n",
        "import sys\n",
        "\n",
        "# Complete the minimumSwaps function below.\n",
        "def minimumSwaps(arr):\n",
        "    swap=0\n",
        "    for i in range (len(arr)):\n",
        "        if(arr[i]!=(i+1)):\n",
        "            t=i;\n",
        "            while(arr[t]!=(i+1)):\n",
        "                t+=1\n",
        "            temp=arr[t]\n",
        "            arr[t]=arr[i]\n",
        "            arr[i]=temp\n",
        "            swap+=1\n",
        "    return swap\n",
        "\n",
        "    \n",
        "\n",
        "if __name__ == '__main__':\n",
        "    fptr = open(os.environ['OUTPUT_PATH'], 'w')\n",
        "\n",
        "    n = int(input())\n",
        "\n",
        "    arr = list(map(int, input().rstrip().split()))\n",
        "\n",
        "    res = minimumSwaps(arr)\n",
        "\n",
        "    fptr.write(str(res) + '\\n')\n",
        "\n",
        "    fptr.close()\n",
        "\n",
        "\n",
        "\n"
      ],
      "execution_count": null,
      "outputs": []
    }
  ]
}