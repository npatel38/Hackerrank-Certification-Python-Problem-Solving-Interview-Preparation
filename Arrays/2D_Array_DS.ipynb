{
  "nbformat": 4,
  "nbformat_minor": 0,
  "metadata": {
    "colab": {
      "name": "2D Array-DS",
      "provenance": []
    },
    "kernelspec": {
      "name": "python3",
      "display_name": "Python 3"
    }
  },
  "cells": [
    {
      "cell_type": "markdown",
      "metadata": {
        "id": "hNTGN48v7TJo",
        "colab_type": "text"
      },
      "source": [
        "Warm-up Challenge:- 2D Array-DS\n"
      ]
    },
    {
      "cell_type": "code",
      "metadata": {
        "id": "muzRHEWZ6xL4",
        "colab_type": "code",
        "colab": {}
      },
      "source": [
        "#!/bin/python3\n",
        "\n",
        "import math\n",
        "import os\n",
        "import random\n",
        "import re\n",
        "import sys\n",
        "\n",
        "# Complete the hourglassSum function below.\n",
        "def hourglassSum(arr):\n",
        "    sum = []\n",
        "\n",
        "\n",
        "    for i in range(len(arr)-2):\n",
        "        for j in range(len(arr)-2):\n",
        "            sum.append(arr[i][j]+arr[i][j+1]+arr[i][j+2]+arr[i+1][j+1]+arr[i+2][j]+arr[i+2][j+1]+arr[i+2][j+2])\n",
        "        \n",
        "    return(max(sum))\n",
        "\n",
        "if __name__ == '__main__':\n",
        "    fptr = open(os.environ['OUTPUT_PATH'], 'w')\n",
        "\n",
        "    arr = []\n",
        "\n",
        "    for _ in range(6):\n",
        "        arr.append(list(map(int, input().rstrip().split())))\n",
        "\n",
        "    result = hourglassSum(arr)\n",
        "\n",
        "    fptr.write(str(result) + '\\n')\n",
        "\n",
        "    fptr.close()\n",
        "\n"
      ],
      "execution_count": null,
      "outputs": []
    }
  ]
}