{
  "nbformat": 4,
  "nbformat_minor": 0,
  "metadata": {
    "colab": {
      "name": "Array_Manipulation",
      "provenance": []
    },
    "kernelspec": {
      "name": "python3",
      "display_name": "Python 3"
    }
  },
  "cells": [
    {
      "cell_type": "markdown",
      "metadata": {
        "id": "hNTGN48v7TJo",
        "colab_type": "text"
      },
      "source": [
        "Warm-up Challenge:- Arrays: Array Manipulation\n"
      ]
    },
    {
      "cell_type": "code",
      "metadata": {
        "id": "muzRHEWZ6xL4",
        "colab_type": "code",
        "colab": {}
      },
      "source": [
        "#!/bin/python3\n",
        "\n",
        "import math\n",
        "import os\n",
        "import random\n",
        "import re\n",
        "import sys\n",
        "\n",
        "# Complete the arrayManipulation function below.\n",
        "def arrayManipulation(n, queries):\n",
        "    array = [0] * (n + 1)\n",
        "    \n",
        "    for query in queries: \n",
        "        a = query[0] - 1\n",
        "        b = query[1]\n",
        "        k = query[2]\n",
        "        array[a] += k\n",
        "        array[b] -= k\n",
        "        \n",
        "    max_value = 0\n",
        "    running_count = 0\n",
        "    for i in array:\n",
        "        running_count += i\n",
        "        if running_count > max_value:\n",
        "            max_value = running_count\n",
        "            \n",
        "    return max_value\n",
        "    \n",
        "\n",
        "if __name__ == '__main__':\n",
        "    fptr = open(os.environ['OUTPUT_PATH'], 'w')\n",
        "\n",
        "    nm = input().split()\n",
        "\n",
        "    n = int(nm[0])\n",
        "\n",
        "    m = int(nm[1])\n",
        "\n",
        "    queries = []\n",
        "\n",
        "    for _ in range(m):\n",
        "        queries.append(list(map(int, input().rstrip().split())))\n",
        "\n",
        "    result = arrayManipulation(n, queries)\n",
        "\n",
        "    fptr.write(str(result) + '\\n')\n",
        "\n",
        "    fptr.close()"
      ],
      "execution_count": null,
      "outputs": []
    }
  ]
}